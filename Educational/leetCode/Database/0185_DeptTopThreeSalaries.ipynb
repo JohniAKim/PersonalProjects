{
 "cells": [
  {
   "cell_type": "markdown",
   "id": "e851b8ba-052e-462d-8e5d-b8e8bfe5577f",
   "metadata": {},
   "source": [
    "## 185. Department Top Three Salaries\n"
   ]
  },
  {
   "cell_type": "markdown",
   "id": "80346ac7-3945-4427-9013-acbc87b23671",
   "metadata": {},
   "source": [
    "**Change Log**   \n",
    "\n",
    "| Date | Description |\n",
    "| ---------- | ---------- |\n",
    "| 2022-04-11 | Initialize |\n",
    "\n"
   ]
  },
  {
   "cell_type": "markdown",
   "id": "e86981a0-26ab-472e-80f7-b9a94799395f",
   "metadata": {},
   "source": [
    "## Summary"
   ]
  },
  {
   "cell_type": "markdown",
   "id": "d77d53ea-57a3-4e44-8bf8-c74adcc3951c",
   "metadata": {},
   "source": [
    "Find all employees whose salary is in the top three salaries for their department."
   ]
  },
  {
   "cell_type": "markdown",
   "id": "d9c67bcc-4634-4526-b021-1b75b2d813de",
   "metadata": {},
   "source": [
    "#### SQL Schema\n",
    "\n",
    "```sql\n",
    "Create table If Not Exists Employee (id int, name varchar(255), salary int, departmentId int)\n",
    "Create table If Not Exists Department (id int, name varchar(255))\n",
    "Truncate table Employee\n",
    "insert into Employee (id, name, salary, departmentId) values ('1', 'Joe', '85000', '1')\n",
    "insert into Employee (id, name, salary, departmentId) values ('2', 'Henry', '80000', '2')\n",
    "insert into Employee (id, name, salary, departmentId) values ('3', 'Sam', '60000', '2')\n",
    "insert into Employee (id, name, salary, departmentId) values ('4', 'Max', '90000', '1')\n",
    "insert into Employee (id, name, salary, departmentId) values ('5', 'Janet', '69000', '1')\n",
    "insert into Employee (id, name, salary, departmentId) values ('6', 'Randy', '85000', '1')\n",
    "insert into Employee (id, name, salary, departmentId) values ('7', 'Will', '70000', '1')\n",
    "Truncate table Department\n",
    "insert into Department (id, name) values ('1', 'IT')\n",
    "insert into Department (id, name) values ('2', 'Sales')\n",
    "\n",
    "```"
   ]
  },
  {
   "cell_type": "markdown",
   "id": "ed72e349-aaba-49eb-91de-7a6ebbca457b",
   "metadata": {},
   "source": [
    "Table: Employee\n",
    "\n",
    "```\n",
    "+--------------+---------+\n",
    "| Column Name  | Type    |\n",
    "+--------------+---------+\n",
    "| id           | int     |\n",
    "| name         | varchar |\n",
    "| salary       | int     |\n",
    "| departmentId | int     |\n",
    "+--------------+---------+\n",
    "id is the primary key column for this table.\n",
    "departmentId is a foreign key of the ID from the Department table.\n",
    "Each row of this table indicates the ID, name, and salary of an employee. It also contains the ID of their department.\n",
    "```\n",
    "\n",
    "Table: Department\n",
    "\n",
    "```\n",
    "+-------------+---------+\n",
    "| Column Name | Type    |\n",
    "+-------------+---------+\n",
    "| id          | int     |\n",
    "| name        | varchar |\n",
    "+-------------+---------+\n",
    "id is the primary key column for this table.\n",
    "Each row of this table indicates the ID of a department and its name.\n",
    "```"
   ]
  },
  {
   "cell_type": "markdown",
   "id": "e5904d27-db1e-4ee5-9d76-03148843e907",
   "metadata": {},
   "source": [
    "## Problem\n",
    "\n",
    "A company's executives are interested in seeing who earns the most money in each of the company's departments. A **high earner** in a department is an employee who has a salary in the **top three unique** salaries for that department.\n",
    "\n",
    "Write an SQL query to find the employees who are **high earners** in each of the departments.\n",
    "\n",
    "Return the result table in **any order**."
   ]
  },
  {
   "cell_type": "markdown",
   "id": "fa6916b3-3209-4b1a-b7e1-ed8aa60b083c",
   "metadata": {},
   "source": [
    "The query result format is in the following example.\n",
    "\n",
    " \n",
    "\n",
    "#### Example 1:\n",
    "\n",
    "**Input:** \n",
    "```\n",
    "Employee table:\n",
    "+----+-------+--------+--------------+\n",
    "| id | name  | salary | departmentId |\n",
    "+----+-------+--------+--------------+\n",
    "| 1  | Joe   | 85000  | 1            |\n",
    "| 2  | Henry | 80000  | 2            |\n",
    "| 3  | Sam   | 60000  | 2            |\n",
    "| 4  | Max   | 90000  | 1            |\n",
    "| 5  | Janet | 69000  | 1            |\n",
    "| 6  | Randy | 85000  | 1            |\n",
    "| 7  | Will  | 70000  | 1            |\n",
    "+----+-------+--------+--------------+\n",
    "Department table:\n",
    "+----+-------+\n",
    "| id | name  |\n",
    "+----+-------+\n",
    "| 1  | IT    |\n",
    "| 2  | Sales |\n",
    "+----+-------+\n",
    "```\n",
    "**Output:**\n",
    "```\n",
    "+------------+----------+--------+\n",
    "| Department | Employee | Salary |\n",
    "+------------+----------+--------+\n",
    "| IT         | Max      | 90000  |\n",
    "| IT         | Joe      | 85000  |\n",
    "| IT         | Randy    | 85000  |\n",
    "| IT         | Will     | 70000  |\n",
    "| Sales      | Henry    | 80000  |\n",
    "| Sales      | Sam      | 60000  |\n",
    "+------------+----------+--------+\n",
    "```\n",
    "\n",
    "**Explanation**:  \n",
    "In the IT department:\n",
    "- Max earns the highest unique salary\n",
    "- Both Randy and Joe earn the second-highest unique salary\n",
    "- Will earns the third-highest unique salary\n",
    "\n",
    "In the Sales department:\n",
    "- Henry earns the highest salary\n",
    "- Sam earns the second-highest salary\n",
    "- There is no third-highest salary as there are only two employees\n",
    "\n",
    "--- "
   ]
  },
  {
   "cell_type": "markdown",
   "id": "fafd7338-2db5-46a5-b2a1-fb9a1ac0e530",
   "metadata": {},
   "source": [
    "### Discussion\n",
    "\n",
    "The initial thought is to extend the logic we used in Problem 184 (Department Highest Salary) by adding a `TOP 3` clause. This will not work because this will only three (3) rows for the first departmentId the query selects.  \n",
    "\n",
    "So following does not work:\n",
    "```sql\n",
    "SELECT      TOP 3\n",
    "            departmendId\n",
    "            , MAX(salary)\n",
    "FROM        Employee\n",
    "GROUP BY    departmentId\n",
    "```\n",
    "\n",
    "That leaves us with trying to find another method.  We might get some insight by stepping back and thinking about how we would manually do this.  Logically we would:\n",
    "- do some kind of grouping (**partitioning**) by department\n",
    "- then **rank** the salaries from highest to lowest\n",
    "- then select the first three ranks for each department\n",
    "\n",
    "There are a few clues in there.  We might be able to use the `RANK()` or `DENSE_RANK()` functions.  Upon reviewing those we note that `RANK()` will skip if there is a tie, where `DENSE_RANK()` does not.  This can be seen in the output below.\n",
    "\n",
    "#### Assuming:\n",
    "```sql\n",
    "SELECT  departmentId\n",
    "        , salary\n",
    "        , RANK() OVER (PARTITION BY departmentId ORDER BY salary DESC) AS R\n",
    "        , DENSE_RANK() OVER(PARTITION BY departmentId ORDER BY salary DESC) AS DR\n",
    "FROM    Employee\n",
    "```\n",
    "\n",
    "\n",
    "\n",
    "| departmentId | salary  | R | DR |\n",
    "| ---- | ------- | ---- | ---- |\n",
    "| 1 | 90000 | 1 | 1 | \n",
    "| 1 | 85000 | 2 | 2 |\n",
    "| 1 | 85000 | 2 | 2 |\n",
    "| 1 | 70000 | 4 | 3 |\n",
    "| 1 | 69000 | 5 | 4 |\n",
    "| 2 | 80000 | 1 | 1 |\n",
    "| 2 | 60000 | 2 | 2 |\n",
    "| ---- | ------- | ---- | ---- |\n",
    "\n",
    "\n",
    "`DENSE_RANK()` gives us the expected behavior that we want.  The type three salaries for department 1 are 90000, 85000, and 70000.  We do not want omit the 70000 records because three or more employees have the top two salaries.\n",
    "\n",
    "It looks like `DENSE_RANK()` is exactly what we need.  All that we have to do now is:\n",
    "- join to the `Employee` table on `departmentId` and `salary`\n",
    "- join to the `Department` table on `departmentId`\n",
    "- filter to only return records with a **rank < 4**  (or <=3)\n",
    "\n",
    "***Let's Get To It!!***\n",
    "\n",
    "\n",
    "--- "
   ]
  },
  {
   "cell_type": "markdown",
   "id": "581483c8-c66a-4df6-a9b7-00984a4e498d",
   "metadata": {},
   "source": [
    "## Solution 1 - MSSQL - Use DENSE_RANK() In a Sub-Query\n",
    "\n",
    "#### The Plan:\n",
    "Use the above as a subquery to get the `Employee` records and `Department` records.\n"
   ]
  },
  {
   "cell_type": "markdown",
   "id": "1a02f1da-ed1f-4994-a048-01a737a50b5e",
   "metadata": {},
   "source": [
    "\n",
    "**Testing code**\n",
    "```sql\n",
    "/* Write your T-SQL query statement below */\n",
    "SELECT      d.name                  AS Department\n",
    "            , e.name                AS Employee\n",
    "            , e.salary\n",
    "            ,'----'                 AS Sep\n",
    "            , ranks.departmentId    AS rankDeptId\n",
    "            , ranks.salary          AS rankSalary\n",
    "            , ranks.DR              AS rankDR\n",
    "FROM        Employee e\n",
    "            JOIN Department d ON d.id = e.departmentId\n",
    "            JOIN (\n",
    "                SELECT  departmentId\n",
    "                        , salary\n",
    "                        , DENSE_RANK() OVER(PARTITION BY departmentId ORDER BY salary DESC) AS DR\n",
    "                FROM    Employee e\n",
    "                GROUP BY departmentId, salary\n",
    "            ) AS ranks ON ranks.departmentId = e.departmentId\n",
    "                      AND ranks.salary = e.salary\n",
    "WHERE       ranks.DR < 4\n",
    "\n",
    "```\n",
    "\n",
    "**Final Code**\n",
    "```sql\n",
    "/* Write your T-SQL query statement below */\n",
    "SELECT      d.name                  AS Department\n",
    "            , e.name                AS Employee\n",
    "            , e.salary\n",
    "FROM        Employee e\n",
    "            JOIN Department d ON d.id = e.departmentId\n",
    "            JOIN (\n",
    "                SELECT  departmentId\n",
    "                        , salary\n",
    "                        , DENSE_RANK() OVER(PARTITION BY departmentId ORDER BY salary DESC) AS DR\n",
    "                FROM    Employee e\n",
    "                GROUP BY departmentId, salary\n",
    "            ) AS ranks ON ranks.departmentId = e.departmentId\n",
    "                      AND ranks.salary = e.salary\n",
    "WHERE       ranks.DR < 4\n",
    "\n",
    "```"
   ]
  },
  {
   "cell_type": "code",
   "execution_count": null,
   "id": "a2b505cc-7fe3-43e2-a24c-b2863eaedc54",
   "metadata": {},
   "outputs": [],
   "source": []
  },
  {
   "attachments": {
    "0a80680c-7ff2-4552-be50-39efe0b07d74.png": {
     "image/png": "[encoded data removed]"
    }
   },
   "cell_type": "markdown",
   "id": "aaa5e62c-f80f-48c8-853a-680a26b0ff74",
   "metadata": {},
   "source": [
    "### Result\n",
    "\n",
    "![image.png](attachment:0a80680c-7ff2-4552-be50-39efe0b07d74.png)\n",
    "\n"
   ]
  },
  {
   "cell_type": "markdown",
   "id": "d8f97270-c2a0-4b9a-938e-a70b127d0e02",
   "metadata": {},
   "source": [
    "The results are good, but as we noted before server load has a big impact on variation.\n",
    "\n",
    "--- "
   ]
  },
  {
   "cell_type": "markdown",
   "id": "e00532d1-dccc-4569-a7d6-17c9903aefab",
   "metadata": {},
   "source": [
    "## Solution 2 - MSSQL - Use Join to SubQuery\n",
    "\n",
    "\n",
    "\n"
   ]
  },
  {
   "cell_type": "markdown",
   "id": "2d13d062-7b6f-4965-a235-57f692443ec5",
   "metadata": {},
   "source": [
    "```sql\n",
    "/* Write your T-SQL query statement below */\n",
    "\n",
    "\n",
    "SELECT      d1.Name           AS Department\n",
    "            , e1.Name         AS Employee\n",
    "            , e1.Salary       AS Salary\n",
    "FROM        Employee e\n",
    "            JOIN Department d ON d.Id = e.Id\n",
    "WHERE       3 > (\n",
    "                    SELECT  count(distinct(e2.salary)) \n",
    "                    FROM    Employee e2 \n",
    "                    WHERE   e2.salary > e.salary \n",
    "                            AND e2.DepartmentId = e.DepartmentId\n",
    "                )\n",
    "\n",
    "\n",
    "```"
   ]
  },
  {
   "cell_type": "markdown",
   "id": "a0a805a6-7fb9-424e-ada5-c91551fb6b0c",
   "metadata": {},
   "source": [
    "### Result\n",
    "\n",
    "#### << NOT DONE >>\n",
    "![image.png]()\n",
    "\n"
   ]
  },
  {
   "cell_type": "markdown",
   "id": "d0fdaf71-c5eb-47b5-84e9-eca6b73a36bb",
   "metadata": {},
   "source": [
    "No noticeable difference on a dataset this small\n",
    "\n",
    "--- "
   ]
  },
  {
   "cell_type": "markdown",
   "id": "1f85995d-eb40-407c-b114-d6b72df1ae7d",
   "metadata": {},
   "source": [
    "## Solution 3 - MySQL \n",
    "\n",
    "Pretty much the same thing in MySQL. \n",
    "\n",
    "```sql\n",
    "# Write your MySQL query statement below\n",
    "\n",
    ";\n",
    "\n",
    "```\n",
    "\n"
   ]
  },
  {
   "cell_type": "markdown",
   "id": "921b1fbb-e525-4f4a-bfd6-1cd220d8d1f2",
   "metadata": {},
   "source": [
    "### Result\n",
    "\n",
    "\n",
    "\n",
    "\n"
   ]
  },
  {
   "cell_type": "markdown",
   "id": "3a79f225-b4e9-48d0-98a2-2fdb2952dc70",
   "metadata": {},
   "source": [
    "As usual MySQL is kicking butt on MSSQL.\n",
    "\n",
    "--- \n"
   ]
  },
  {
   "cell_type": "code",
   "execution_count": null,
   "id": "d3986a0f-e444-4026-81ab-0e7932ecc8b6",
   "metadata": {},
   "outputs": [],
   "source": []
  }
 ],
 "metadata": {
  "kernelspec": {
   "display_name": "Python 3 (ipykernel)",
   "language": "python",
   "name": "python3"
  },
  "language_info": {
   "codemirror_mode": {
    "name": "ipython",
    "version": 3
   },
   "file_extension": ".py",
   "mimetype": "text/x-python",
   "name": "python",
   "nbconvert_exporter": "python",
   "pygments_lexer": "ipython3",
   "version": "3.7.11"
  }
 },
 "nbformat": 4,
 "nbformat_minor": 5
}
