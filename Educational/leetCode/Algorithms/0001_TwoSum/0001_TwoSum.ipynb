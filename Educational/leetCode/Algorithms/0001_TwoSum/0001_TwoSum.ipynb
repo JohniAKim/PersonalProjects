{
 "cells": [
  {
   "cell_type": "markdown",
   "id": "5eaf41ba-ee17-409f-8fe2-961da414ee49",
   "metadata": {},
   "source": [
    "## 1. Two Sum"
   ]
  },
  {
   "cell_type": "markdown",
   "id": "8cea1cf5-bf8e-47a4-a413-49979689180c",
   "metadata": {},
   "source": [
    "**Change Log**   \n",
    "\n",
    "| Date | Description |\n",
    "| ---------- | ---------- |\n",
    "| 2022-04-04 | Initial version with slow solution |\n",
    "| 2022-04-08 | Improved version using Hashmap |\n",
    "| 2022-04-09 | Another version using Hashmap and precalc'd search variable |\n",
    "\n",
    "--- "
   ]
  },
  {
   "cell_type": "markdown",
   "id": "b7eac274-0624-4723-b8a4-1f8c2f2613f8",
   "metadata": {},
   "source": [
    "Given an array of integers `nums` and an integer `target`, return *indices of the two numbers such that they add up to* `target`.\n",
    "\n",
    "You may assume that each input would have ***exactly one solution***, and you may not use the *same* element twice.\n",
    "\n",
    "You can return the answer in any order."
   ]
  },
  {
   "cell_type": "markdown",
   "id": "c67708ef-b43e-4648-a94e-5b70de797e12",
   "metadata": {},
   "source": [
    "#### Example 1:\n",
    "\n",
    "**Input**: nums = [2,7,11,15], target = 9  \n",
    "**Output**: [0,1]  \n",
    "**Explanation**: Because nums[0] + nums[1] == 9, we return [0, 1].\n",
    "\n",
    "### Example 2:\n",
    "\n",
    "**Input**: nums = [3,2,4], target = 6  \n",
    "**Output**: [1,2]\n",
    "\n",
    "### Example 3:\n",
    "\n",
    "**Input**: nums = [3,3], target = 6  \n",
    "**Output**: [0,1]\n"
   ]
  },
  {
   "cell_type": "markdown",
   "id": "dbbee18d-1388-4ceb-bb2f-5c9ae17ed561",
   "metadata": {},
   "source": [
    "**Constraints**:\n",
    "\n",
    "* 2 <= nums.length <= 10<sup>4</sup>\n",
    "* -10<sup>9</sup> <= nums[i] <= 10<sup>9</sup>\n",
    "* -10<sup>9</sup> <= target <= 10<sup>9</sup>\n",
    "* **Only one valid answer exists.**\n"
   ]
  },
  {
   "cell_type": "markdown",
   "id": "eeab58e4-777f-4e87-a0d3-e271824194c4",
   "metadata": {},
   "source": [
    "**Follow-up**: Can you come up with an algorithm that is less than `O(n2)` time complexity?\n"
   ]
  },
  {
   "cell_type": "markdown",
   "id": "a970675e-a758-4fec-9ada-43017dc6b2e0",
   "metadata": {},
   "source": [
    "--- "
   ]
  },
  {
   "cell_type": "markdown",
   "id": "f90ce8ce-2bc1-4150-a39b-1ee98e333854",
   "metadata": {},
   "source": [
    "Default signature:\n",
    "\n",
    "```python\n",
    "    class Solution:\n",
    "        def twoSum(self, nums: List[int], target: int) -> List[int]:\n",
    "```"
   ]
  },
  {
   "cell_type": "markdown",
   "id": "7d26cdd3-14f8-45c3-b8c2-4fc64f353f1c",
   "metadata": {},
   "source": [
    "--- "
   ]
  },
  {
   "cell_type": "markdown",
   "id": "902c52b1-62f9-416f-a975-c2c89a4c1f45",
   "metadata": {},
   "source": [
    "### Initial Thoughts\n",
    "\n",
    "Using two pointers, one for the current indices and one to traverse the other elements, we could start with the first element and then add with each of the remaining indices until a combination is found that add up to the `target` result.  If no valid combination is found we then move the current pointer to the next element and test that with remaining elements.\n",
    "\n",
    "Of note is that as the current pointer moves, we need to check fewer remaining elements because any other check would have already been done.\n",
    "\n",
    "#### Example\n",
    "Given:  [2,7,11,15]\n",
    "Pass\n",
    "\n",
    "#### Example\n",
    "Given:  [2,7,11,15]\n",
    "\n",
    "| Iteration | Current Number | Numbers Checked |\n",
    "| ----------- | ----------- | ----------- |\n",
    "| 1 | 2 | 7, 11, 15 |\n",
    "| 2 | 7 | 11, 15 |\n",
    "| 3 | 11 | 15 |\n",
    "\n"
   ]
  },
  {
   "cell_type": "code",
   "execution_count": 99,
   "id": "53550ae8-a40f-43a3-8865-8fabf6b6c0fd",
   "metadata": {},
   "outputs": [],
   "source": [
    "## Initialize the environment\n",
    "#from typing import *\n",
    "from typing import List"
   ]
  },
  {
   "cell_type": "code",
   "execution_count": 100,
   "id": "ba90b72c-6578-445d-a442-1be69aa0908c",
   "metadata": {},
   "outputs": [],
   "source": [
    "class Solution:\n",
    "    def twoSum(self, nums: List[int], target: int):\n",
    "        for i in range(len(nums)):\n",
    "            for x in (range(i+1,len(nums))):\n",
    "                if nums[i] + nums[x] == target:\n",
    "                    return [i,x]\n",
    "        return []\n",
    "        "
   ]
  },
  {
   "cell_type": "code",
   "execution_count": 78,
   "id": "9ce1ee22-b2ef-42d4-8793-1dfcac75171b",
   "metadata": {},
   "outputs": [
    {
     "name": "stdout",
     "output_type": "stream",
     "text": [
      "typing.List\n",
      "Length =  4\n",
      "2  +  7  =  9\n",
      "2  +  11  =  13\n",
      "2  +  15  =  17\n",
      "7  +  11  =  18\n"
     ]
    },
    {
     "data": {
      "text/plain": [
       "[1, 3]"
      ]
     },
     "execution_count": 78,
     "metadata": {},
     "output_type": "execute_result"
    }
   ],
   "source": [
    "sol = Solution()\n",
    "list = [2, 7, 11, 15]\n",
    "sol.twoSum(list, 22)"
   ]
  },
  {
   "cell_type": "markdown",
   "id": "d253f13b-729a-4edb-b9fb-178691c1a2cc",
   "metadata": {},
   "source": [
    "This is accepted, but the results aren't good compared to other solutions.\n",
    "\n",
    "![](images/Q00001-Sol-001-Initial-Success.JPG)\n",
    "\n",
    "\n",
    "hmmm"
   ]
  },
  {
   "cell_type": "markdown",
   "id": "37cc4e0d-d79f-4fba-a44f-0a87874a94c6",
   "metadata": {},
   "source": [
    "#### Big O Analysis\n",
    "\n",
    "```python\n",
    "class Solution:\n",
    "    def twoSum(self, nums: List[int], target: int):\n",
    "        for i in range(len(nums)):                         # n\n",
    "            for x in (range(i+1,len(nums))):               # n * n-i\n",
    "                if nums[i] + nums[x] == target:            # 1\n",
    "                    return [i,x]\n",
    "        return []\n",
    "```\n",
    "\n",
    "Total = n + (n * n-i) + 1 = n + n<sup>2</sup> - in + 1 = n<sup>2</sup> + 1 = n<sup>2</sup> = O(n<sup>2</sup>)\n",
    "\n",
    "**Big O = O(n<sup>2</sup>)**  \n",
    "This is **not good**, can we do better?\n",
    "\n",
    "--- "
   ]
  },
  {
   "cell_type": "markdown",
   "id": "6ecbfb7a-ff93-47f1-b825-e62d917c4ac0",
   "metadata": {},
   "source": [
    "### Improving Time Complexity - Use a Hashmap\n",
    "\n",
    "We initially looked at the problem from the standpoint of what two values added up to the `target` value.\n",
    "\n",
    "```\n",
    "val 1 + val 2 == target ?\n",
    "```\n",
    "\n",
    "What if we looked at it in another way.  Since we know the `target` value already, what if we subtracted the current value to determine what the corresponding value needed to be and then searched for that value?\n",
    "\n",
    "```\n",
    "target - val 1 = search val\n",
    "```\n",
    "\n",
    "We would still have a problem if we searched the *List* for the `search value` using a nested `for..loop`.  Since we would *know* the search value, we could use a hashmap / dictionary to store each search value and its index value from the list.  Yes, kind of confusing, we are basically creating a value-pair where the index is the value and the value is the index, but it should work well.\n",
    "\n",
    "The downside is we increase our space complexity by doubling the storage but algorithmically it still remains as a space complexity of ***O(n)***.\n",
    "\n",
    "\n",
    "\n"
   ]
  },
  {
   "cell_type": "code",
   "execution_count": 104,
   "id": "b67223b3-64f5-414a-bc5c-fff74b91df94",
   "metadata": {},
   "outputs": [],
   "source": [
    "class Solution:\n",
    "    def twoSum(self, nums: List[int], target: int) -> List[int]:\n",
    "        # Dictionary for storing the numbers and their index in the original list\n",
    "        num_map = {}\n",
    "        for i, n in enumerate(nums):\n",
    "            if (target - n) in num_map:\n",
    "                return [num_map[target - n],i]\n",
    "            num_map[n] = i\n",
    "\n",
    "        return []"
   ]
  },
  {
   "cell_type": "code",
   "execution_count": 106,
   "id": "de13f0ce-d70c-4cbf-8b76-ba77bb2b8757",
   "metadata": {},
   "outputs": [
    {
     "data": {
      "text/plain": [
       "[1, 3]"
      ]
     },
     "execution_count": 106,
     "metadata": {},
     "output_type": "execute_result"
    }
   ],
   "source": [
    "sol = Solution()\n",
    "list = [2, 7, 11, 15]\n",
    "sol.twoSum(list, 22)"
   ]
  },
  {
   "cell_type": "markdown",
   "id": "46c3823c-41b1-4ee5-b215-b5a3957d3135",
   "metadata": {},
   "source": [
    "#### Results\n",
    "\n",
    "![](images/Q00001-Sol-002-UseHashmap-Success.JPG)\n"
   ]
  },
  {
   "cell_type": "markdown",
   "id": "0d49a08e-ae6e-480c-9c39-4908c8e620fc",
   "metadata": {},
   "source": [
    "#### Big O Analysis\n",
    "\n",
    "```python\n",
    "class Solution:\n",
    "    def twoSum(self, nums: List[int], target: int) -> List[int]:\n",
    "        # Dictionary for storing the numbers and their index in the original list\n",
    "        num_map = {}                                     # O(1)\n",
    "        for i, n in enumerate(nums):                     # O(n)\n",
    "            if (target - n) in num_map:                  # O(2)\n",
    "                return [num_map[target - n],i]           # O(3)\n",
    "            num_map[n] = i                               # O(1)\n",
    "\n",
    "        return []\n",
    "```\n",
    "\n",
    "Total =    \n",
    "**Big O = O(n)**  \n",
    "This is much better, **but** we are only faster than 41.44% of the submissions and storage is only better than 25.96% of the submissions.  Can we do better?\n",
    "\n",
    "--- "
   ]
  },
  {
   "cell_type": "markdown",
   "id": "4e625dbe-e9b9-4884-b805-3e2543296447",
   "metadata": {},
   "source": [
    "### Improve Time Complexity - Store Calc in Variable\n",
    "\n",
    "This is where doing Big O calculation does not help, but instead common sense and experience kicks in.  Big O notation generally says to take the biggest complexity and forget the rest, basically ignore the O(1), coefficients and such if you have a O(n), O(n<sup>2</sup>), etc.\n",
    "\n",
    "The hashmap/dictionary solution above is technically an O(n) solution and just like the one below.  In fact the only difference between the two is that we calculate the `search_num` (`target - current number`) once in the new version and and store it in a variable for use in the if statement.\n",
    "\n",
    "Even though the calculation is performed only once for each iteration, the version with the pre-calculated valu in a variable performs in about half the time."
   ]
  },
  {
   "cell_type": "code",
   "execution_count": 107,
   "id": "1cfff5ef-40db-4fa4-918f-5afaa6ac53ca",
   "metadata": {},
   "outputs": [],
   "source": [
    "class Solution:\n",
    "    def twoSum(self, nums: List[int], target: int) -> List[int]:\n",
    "        # Dictionary for storing the numbers and their index in the original list\n",
    "        num_map = {}\n",
    "        for i, n in enumerate(nums):\n",
    "            search_num = target - n\n",
    "            if search_num in num_map:\n",
    "                return [num_map[search_num], i]\n",
    "            num_map[n] = i\n",
    "\n",
    "        return []"
   ]
  },
  {
   "cell_type": "code",
   "execution_count": 108,
   "id": "bc0e7d75-9a02-45bb-ba1c-1a122a3c7472",
   "metadata": {},
   "outputs": [
    {
     "data": {
      "text/plain": [
       "[1, 3]"
      ]
     },
     "execution_count": 108,
     "metadata": {},
     "output_type": "execute_result"
    }
   ],
   "source": [
    "sol = Solution()\n",
    "list = [2, 7, 11, 15]\n",
    "sol.twoSum(list, 22)"
   ]
  },
  {
   "cell_type": "markdown",
   "id": "dc6e3186-7a78-4ee9-bd26-aa74fd210ca1",
   "metadata": {},
   "source": [
    "#### Results\n",
    "\n",
    "![](images/Q00001-Sol-003-UseHashandVar-Success.JPG)"
   ]
  },
  {
   "cell_type": "markdown",
   "id": "6caa1d4b-06d0-410b-9a85-ef9077ca773b",
   "metadata": {},
   "source": [
    "**WOW**  Big improvement for something that Big O notation tells us shouldn't play much of a role."
   ]
  },
  {
   "cell_type": "code",
   "execution_count": null,
   "id": "5357f5c2-54db-463b-927d-8aee87c6dc15",
   "metadata": {},
   "outputs": [],
   "source": []
  }
 ],
 "metadata": {
  "kernelspec": {
   "display_name": "Python 3 (ipykernel)",
   "language": "python",
   "name": "python3"
  },
  "language_info": {
   "codemirror_mode": {
    "name": "ipython",
    "version": 3
   },
   "file_extension": ".py",
   "mimetype": "text/x-python",
   "name": "python",
   "nbconvert_exporter": "python",
   "pygments_lexer": "ipython3",
   "version": "3.7.11"
  }
 },
 "nbformat": 4,
 "nbformat_minor": 5
}
